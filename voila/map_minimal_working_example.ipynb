{
 "cells": [
  {
   "cell_type": "code",
   "execution_count": 1,
   "id": "171a3c74",
   "metadata": {},
   "outputs": [],
   "source": [
    "from ipyleaflet import Map, basemaps, WKTLayer #AwesomeIcon, Marker\n",
    "from ipywidgets import Layout, HTML, Button, Box, VBox\n",
    "\n",
    "\n",
    "center_map_coordinates = (25.0, 53.0)\n",
    "\n",
    "m = Map(basemap=basemaps.Esri.WorldImagery, center=center_map_coordinates, zoom=7, \n",
    "       layout=Layout(width='800px', height='500px'))\n"
   ]
  },
  {
   "cell_type": "code",
   "execution_count": 2,
   "id": "d0011475",
   "metadata": {},
   "outputs": [
    {
     "data": {
      "application/vnd.jupyter.widget-view+json": {
       "model_id": "6a38e13c8442436b96f10b7bab4acc97",
       "version_major": 2,
       "version_minor": 0
      },
      "text/plain": [
       "Map(center=[25.0, 53.0], controls=(ZoomControl(options=['position', 'zoom_in_text', 'zoom_in_title', 'zoom_out…"
      ]
     },
     "metadata": {},
     "output_type": "display_data"
    }
   ],
   "source": [
    "#creating a HTML widget with some informative text\n",
    "message = HTML(value = \"Here!\") \n",
    "#creating a button widget\n",
    "button = Button(\n",
    "    description='Click me',\n",
    "    disabled=False,\n",
    "    button_style='', # 'success', 'info', 'warning', 'danger' or ''\n",
    "    tooltip='Click me',\n",
    "    icon='check' # (FontAwesome names without the `fa-` prefix)\n",
    ")\n",
    "#defining a button callback function. The inner function (call_back) will be exectued \n",
    "#when the button is pressed. The outer function (button_callback_generator) can be used \n",
    "#to pass some information ('sentence' in this example) to the callback function at initialization\n",
    "def button_callback_generator(sentence):\n",
    "    def call_back(btn):\n",
    "        print(sentence)\n",
    "    return call_back\n",
    "#this attaches the callback to the button\n",
    "button.on_click(button_callback_generator(\"Print this!\"))\n",
    "\n",
    "#creating a ipyleaflet widget consisting of a rectangle that becomes red when hovering\n",
    "wlayer = WKTLayer(wkt_string=\"POLYGON((53 24.5, 54 24.5, 54 25.5, 53 25.5, 53 24.5))\",\n",
    "                  hover_style={\"fillColor\": \"red\"})\n",
    "#if the rectangle is clicked show the widget 'VBox'. Vbox is just a contained that packs vertically\n",
    "#all the widgets that are listed (in this case, the HTML message and the clickable button)\n",
    "wlayer.popup = VBox([message, button])\n",
    "\n",
    "#add the rectangle to the map\n",
    "m.add_layer(wlayer);\n",
    "#show the map on the web page.\n",
    "display(m)\n"
   ]
  },
  {
   "cell_type": "code",
   "execution_count": null,
   "id": "d0a30d69",
   "metadata": {},
   "outputs": [],
   "source": []
  }
 ],
 "metadata": {
  "kernelspec": {
   "display_name": "Python 3 (ipykernel)",
   "language": "python",
   "name": "python3"
  },
  "language_info": {
   "codemirror_mode": {
    "name": "ipython",
    "version": 3
   },
   "file_extension": ".py",
   "mimetype": "text/x-python",
   "name": "python",
   "nbconvert_exporter": "python",
   "pygments_lexer": "ipython3",
   "version": "3.10.6"
  }
 },
 "nbformat": 4,
 "nbformat_minor": 5
}
