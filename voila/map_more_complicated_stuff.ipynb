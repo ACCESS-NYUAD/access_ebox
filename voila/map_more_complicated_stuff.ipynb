{
 "cells": [
  {
   "cell_type": "code",
   "execution_count": 1,
   "id": "f3106bcb",
   "metadata": {},
   "outputs": [],
   "source": [
    "%matplotlib widget\n",
    "import matplotlib.pyplot as plt\n",
    "import numpy as np\n",
    "from ipyleaflet import Map, basemaps, WKTLayer, LayerGroup\n",
    "from ipywidgets import Layout, HTML, Button, Box, VBox\n"
   ]
  },
  {
   "cell_type": "code",
   "execution_count": 2,
   "id": "6ad1981e",
   "metadata": {},
   "outputs": [
    {
     "data": {
      "application/vnd.jupyter.widget-view+json": {
       "model_id": "47a68067f7bc4fce97424f178fc72b59",
       "version_major": 2,
       "version_minor": 0
      },
      "text/plain": [
       "Box(children=(Map(center=[25.0, 53.0], controls=(ZoomControl(options=['position', 'zoom_in_text', 'zoom_in_tit…"
      ]
     },
     "metadata": {},
     "output_type": "display_data"
    }
   ],
   "source": [
    "plt.ioff() #avoids showing the plotting widget right here and now.\n",
    "plt.rcParams[\"figure.figsize\"] = (5,5)\n",
    "center_map_coordinates = (25.0, 53.0)\n",
    "\n",
    "m = Map(basemap=basemaps.Esri.WorldImagery, center=center_map_coordinates, zoom=7, \n",
    "       layout=Layout(width='500px', height='500px', \n",
    "                     max_width='500px',     \n",
    "                     max_height='500px',\n",
    "                     border='solid'))\n",
    "\n",
    "fig = plt.figure()\n",
    "fig.canvas.header_visible = False\n",
    "fig.canvas.layout = Layout(#width='500px', height='500px', \n",
    "    max_width='500px', \n",
    "    max_height='500px',\n",
    "    border='solid')\n",
    "#fig.set_size_inches(4, 4)\n",
    "graph = plt.plot([-1, -1, 1], [-1, 1, 1])\n",
    "\n",
    "def position_string(i,j):\n",
    "    dlat = 0.2\n",
    "    dlon = 0.2\n",
    "    lon = 53 + i*dlon\n",
    "    lat = 25 + j*dlat\n",
    "    return f\"POLYGON(({lon} {lat}, {lon+dlon} {lat}, {lon+dlon} {lat+dlat}, {lon} {lat+dlat}, {lon} {lat}))\"\n",
    "\n",
    "def button_callback_generator(i, j, graph, fig):\n",
    "    def call_back(btn):\n",
    "        t = np.linspace(0, 10*np.pi, 1001)\n",
    "        graph[0].set_data(np.sin((i+1)*t), np.sin((j+1)*t))\n",
    "        plt.title(f\"{i}, {j}\", fontsize=16)\n",
    "        fig.canvas.draw()\n",
    "        fig.canvas.flush_events()\n",
    "        #print(f\"{i}, {j}\")\n",
    "    return call_back\n",
    "\n",
    "wlayers = []\n",
    "popups = []\n",
    "for j in range(3):\n",
    "    for i in range(7):\n",
    "        wlayers.append(WKTLayer(wkt_string=position_string(i,j),\n",
    "                                style={\"weight\": 1, \n",
    "                                       \"color\": \"green\",\n",
    "                                       \"fillOpacity\": 0.1},\n",
    "                                hover_style={\"fillColor\": \"red\",\n",
    "                                             \"fillOpacity\": 0.7})\n",
    "                      )\n",
    "        message = HTML(value = f\"Here! {i}, {j}\")\n",
    "        button = Button(\n",
    "            description='Click me',\n",
    "            disabled=False,\n",
    "            icon='check' # (FontAwesome names without the `fa-` prefix)\n",
    "        )\n",
    "        button.on_click(button_callback_generator(i, j, graph, fig))\n",
    "        popups.append(VBox([message, button]))\n",
    "        wlayers[-1].popup = popups[-1]\n",
    "\n",
    "virtual_reefs = LayerGroup(layers=wlayers)\n",
    "m.add_layer(virtual_reefs);\n",
    "\n",
    "#I still don't know how to layout correctly these widgets on the page.\n",
    "box_layout = Layout(#display='flex',\n",
    "                    flex_flow='row',\n",
    "                    #align_items='stretch',\n",
    "                    border='solid',\n",
    "                    width='100%',\n",
    "                    max_width='1050px')\n",
    "b = Box(children=[m, fig.canvas], layout=box_layout)\n",
    "display(b)\n",
    "#display(fig.canvas)\n",
    "#display(m)\n"
   ]
  },
  {
   "cell_type": "code",
   "execution_count": null,
   "id": "e17f6339-ce6a-4a15-985d-6dbebe71c52b",
   "metadata": {},
   "outputs": [],
   "source": []
  }
 ],
 "metadata": {
  "kernelspec": {
   "display_name": "Python 3 (ipykernel)",
   "language": "python",
   "name": "python3"
  },
  "language_info": {
   "codemirror_mode": {
    "name": "ipython",
    "version": 3
   },
   "file_extension": ".py",
   "mimetype": "text/x-python",
   "name": "python",
   "nbconvert_exporter": "python",
   "pygments_lexer": "ipython3",
   "version": "3.10.6"
  }
 },
 "nbformat": 4,
 "nbformat_minor": 5
}
