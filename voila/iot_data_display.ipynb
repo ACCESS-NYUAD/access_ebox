{
 "cells": [
  {
   "cell_type": "code",
   "execution_count": 1,
   "id": "d5783351",
   "metadata": {},
   "outputs": [],
   "source": [
    "'''\n",
    "Copyright (C) 2022 Francesco Paparella, Pedro Velasquez\n",
    "\n",
    "This file is part of \"ACCESS IOT Stations\".\n",
    "\n",
    "\"ACCESS IOT Stations\" is free software: you can redistribute it and/or modify\n",
    "it under the terms of the GNU General Public License as published by the Free\n",
    "Software Foundation, either version 3 of the License, or (at your option) any\n",
    "later version.\n",
    "\n",
    "\"ACCESS IOT Stations\" is distributed in the hope that it will be useful, but\n",
    "WITHOUT ANY WARRANTY; without even the implied warranty of MERCHANTABILITY or\n",
    "FITNESS FOR A PARTICULAR PURPOSE. See the GNU General Public License for more\n",
    "details.\n",
    "\n",
    "You should have received a copy of the GNU General Public License along with\n",
    "\"ACCESS IOT Stations\". If not, see <https://www.gnu.org/licenses/>.\n",
    "'''\n",
    "\n",
    "%matplotlib widget\n",
    "import numpy as np\n",
    "import pandas as pd\n",
    "import textwrap\n",
    "from pymongo import MongoClient\n",
    "\n",
    "import ipywidgets as widgets\n",
    "from ipywidgets import interact, interact_manual\n",
    "import IPython.display\n",
    "from IPython.display import display, clear_output\n",
    "\n",
    "import plotly.graph_objects as go"
   ]
  },
  {
   "cell_type": "code",
   "execution_count": 2,
   "id": "17c2ba72",
   "metadata": {},
   "outputs": [],
   "source": [
    "# constant definitions\n",
    "STATION = 'station1'\n",
    "MONGO_IP = '10.224.83.51'\n",
    "MONGO_PORT = 27017\n",
    "DATABASE = 'stations'"
   ]
  },
  {
   "cell_type": "code",
   "execution_count": 3,
   "id": "5dfca68b",
   "metadata": {},
   "outputs": [],
   "source": [
    "# connect to MongoDB\n",
    "client = MongoClient(host=MONGO_IP, port=MONGO_PORT)\n",
    "db = client[DATABASE]"
   ]
  },
  {
   "cell_type": "code",
   "execution_count": null,
   "id": "c224aed7",
   "metadata": {},
   "outputs": [],
   "source": [
    "# initialize entire website\n",
    "\n",
    "'''\n",
    "Button for station\n",
    "\n",
    "Button for month\n",
    "\n",
    "Button for sensor\n",
    "\n",
    "Button for attribute\n",
    "\n",
    "FIX MONTHS\n",
    "\n",
    "'''\n",
    "\n"
   ]
  },
  {
   "cell_type": "code",
   "execution_count": 8,
   "id": "065d0c4c",
   "metadata": {},
   "outputs": [
    {
     "data": {
      "application/vnd.jupyter.widget-view+json": {
       "model_id": "5026cfa9771246c597ed68f72d9b226c",
       "version_major": 2,
       "version_minor": 0
      },
      "text/plain": [
       "Dropdown(description='Number:', index=2, options=(('0', 0), ('1', 1), ('2', 2)), value=2)"
      ]
     },
     "metadata": {},
     "output_type": "display_data"
    },
    {
     "data": {
      "application/vnd.jupyter.widget-view+json": {
       "model_id": "bb358fef37e843c99d2aeb25ec7598c9",
       "version_major": 2,
       "version_minor": 0
      },
      "text/plain": [
       "Button(description='Search Months', style=ButtonStyle(), tooltip='Search Months')"
      ]
     },
     "metadata": {},
     "output_type": "display_data"
    }
   ],
   "source": [
    "# display a button to request a station\n",
    "\n",
    "# find all the stations\n",
    "max_station = db['stations_info'].count_documents({'config': True})\n",
    "\n",
    "stations_dropdown = widgets.Dropdown(\n",
    "    options=[(str(i), i) for i in range(max_station)],\n",
    "    value=2,\n",
    "    description='Number:',\n",
    ")\n",
    "\n",
    "stations_button = widgets.Button(\n",
    "    description='Search Months',\n",
    "    disabled=False,\n",
    "    button_style='', # 'success', 'info', 'warning', 'danger' or ''\n",
    "    tooltip='Search Months',\n",
    ")\n",
    "\n",
    "\n",
    "\n",
    "display(stations_dropdown)\n",
    "display(stations_button)"
   ]
  },
  {
   "cell_type": "code",
   "execution_count": null,
   "id": "c6e1b0a4",
   "metadata": {},
   "outputs": [],
   "source": [
    "# create button to "
   ]
  },
  {
   "cell_type": "code",
   "execution_count": null,
   "id": "07057a29",
   "metadata": {},
   "outputs": [],
   "source": [
    "'''\n",
    "# collect wanted data\n",
    "station_data = db[STATION].find_one({'month': '03_2023'})\n",
    "x = station_data['gps']['datetime']\n",
    "y = station_data['particulate_matter']['PM1count']['0']\n",
    "'''"
   ]
  },
  {
   "cell_type": "code",
   "execution_count": null,
   "id": "2be82ad7",
   "metadata": {
    "scrolled": true
   },
   "outputs": [],
   "source": [
    "'''# setup plt plot\n",
    "plt.ioff()  # avoids showing the plotting widget right here and now.\n",
    "plt.rcParams[\"figure.figsize\"] = (10,10)\n",
    "\n",
    "fig = plt.figure()\n",
    "fig.canvas.header_visible = False\n",
    "fig.canvas.layout = Layout( \n",
    "    max_width='1000px', \n",
    "    max_height='1000px',\n",
    "    border='solid')\n",
    "\n",
    "graph = plt.plot(x, y)\n",
    "\n",
    "#I still don't know how to layout correctly these widgets on the page.\n",
    "# box_layout = Layout(#display='flex',\n",
    "#                     flex_flow='row',\n",
    "#                     #align_items='stretch',\n",
    "#                     border='solid',\n",
    "#                     width='100%',\n",
    "#                     max_width='1050px')\n",
    "# b = Box(children=[m, fig.canvas], layout=box_layout)\n",
    "# display(fig)\n",
    "display(fig.canvas)\n",
    "#display(m)\n",
    "'''"
   ]
  },
  {
   "cell_type": "code",
   "execution_count": null,
   "id": "2890a41d",
   "metadata": {},
   "outputs": [],
   "source": []
  }
 ],
 "metadata": {
  "kernelspec": {
   "display_name": "Python 3 (ipykernel)",
   "language": "python",
   "name": "python3"
  },
  "language_info": {
   "codemirror_mode": {
    "name": "ipython",
    "version": 3
   },
   "file_extension": ".py",
   "mimetype": "text/x-python",
   "name": "python",
   "nbconvert_exporter": "python",
   "pygments_lexer": "ipython3",
   "version": "3.10.6"
  }
 },
 "nbformat": 4,
 "nbformat_minor": 5
}
