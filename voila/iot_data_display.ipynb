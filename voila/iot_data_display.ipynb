{
 "cells": [
  {
   "cell_type": "code",
   "execution_count": 1,
   "id": "d5783351",
   "metadata": {},
   "outputs": [],
   "source": [
    "'''\n",
    "Copyright (C) 2022 Francesco Paparella, Pedro Velasquez\n",
    "\n",
    "This file is part of \"ACCESS IOT Stations\".\n",
    "\n",
    "\"ACCESS IOT Stations\" is free software: you can redistribute it and/or modify\n",
    "it under the terms of the GNU General Public License as published by the Free\n",
    "Software Foundation, either version 3 of the License, or (at your option) any\n",
    "later version.\n",
    "\n",
    "\"ACCESS IOT Stations\" is distributed in the hope that it will be useful, but\n",
    "WITHOUT ANY WARRANTY; without even the implied warranty of MERCHANTABILITY or\n",
    "FITNESS FOR A PARTICULAR PURPOSE. See the GNU General Public License for more\n",
    "details.\n",
    "\n",
    "You should have received a copy of the GNU General Public License along with\n",
    "\"ACCESS IOT Stations\". If not, see <https://www.gnu.org/licenses/>.\n",
    "'''\n",
    "\n",
    "%matplotlib widget\n",
    "import numpy as np\n",
    "import pandas as pd\n",
    "import textwrap\n",
    "from pymongo import MongoClient\n",
    "\n",
    "import ipywidgets as widgets\n",
    "from ipywidgets import interact, interact_manual\n",
    "import IPython.display\n",
    "from IPython.display import display, clear_output\n",
    "\n",
    "import plotly.graph_objects as go"
   ]
  },
  {
   "cell_type": "code",
   "execution_count": 2,
   "id": "17c2ba72",
   "metadata": {},
   "outputs": [],
   "source": [
    "# constant definitions\n",
    "STATION = 'station1'\n",
    "MONGO_IP = '10.224.83.51'\n",
    "MONGO_PORT = 27017\n",
    "DATABASE = 'stations'"
   ]
  },
  {
   "cell_type": "code",
   "execution_count": 3,
   "id": "5dfca68b",
   "metadata": {},
   "outputs": [],
   "source": [
    "# connect to MongoDB\n",
    "client = MongoClient(host=MONGO_IP, port=MONGO_PORT)\n",
    "db = client[DATABASE]"
   ]
  },
  {
   "cell_type": "code",
   "execution_count": 21,
   "id": "65caa7fe",
   "metadata": {},
   "outputs": [],
   "source": [
    "# initialize all buttons and dropdowns\n",
    "\n",
    "# buttons to select station\n",
    "max_station = db['stations_info'].count_documents({'config': True})\n",
    "\n",
    "stations_dropdown = widgets.Dropdown(\n",
    "    options=[(str(i), i) for i in range(max_station)],\n",
    "    value=1,\n",
    "    description='Number:',\n",
    ")\n",
    "stations_button = widgets.Button(\n",
    "    description='Search Station',\n",
    "    disabled=False,\n",
    "    button_style='', # 'success', 'info', 'warning', 'danger' or ''\n",
    "    tooltip='Search Station',\n",
    ")\n",
    "\n",
    "# buttons to select month\n",
    "month_input = widgets.Dropdown(\n",
    "    options=[(str(i), i) for i in range(1, 13)],\n",
    "    value=1,\n",
    "    description='Month:',\n",
    ")\n",
    "year_input = widgets.Dropdown(\n",
    "    options=[(1,1)],\n",
    "    value=1,\n",
    "    description='Year:',\n",
    ")\n",
    "month_button = widgets.Button(\n",
    "    description='Search Month',\n",
    "    disabled=False,\n",
    "    button_style='', # 'success', 'info', 'warning', 'danger' or ''\n",
    "    tooltip='Search Month',\n",
    ")\n",
    "\n",
    "# buttons to select sensor\n",
    "sensor_input = widgets.Dropdown(\n",
    "    options=[(1,1)],\n",
    "    value=1,\n",
    "    description='Year:',\n",
    ")\n",
    "sensor_button = widgets.Button(\n",
    "    description='Search Sensor',\n",
    "    disabled=False,\n",
    "    button_style='', # 'success', 'info', 'warning', 'danger' or ''\n",
    "    tooltip='Search Sensor',\n",
    ")\n",
    "\n",
    "# buttons "
   ]
  },
  {
   "cell_type": "code",
   "execution_count": 22,
   "id": "ee944eae",
   "metadata": {},
   "outputs": [
    {
     "ename": "TraitError",
     "evalue": "Invalid selection: value not found",
     "output_type": "error",
     "traceback": [
      "\u001b[0;31m---------------------------------------------------------------------------\u001b[0m",
      "\u001b[0;31mStopIteration\u001b[0m                             Traceback (most recent call last)",
      "File \u001b[0;32m~/.local/lib/python3.10/site-packages/ipywidgets/widgets/widget_selection.py:133\u001b[0m, in \u001b[0;36mfindvalue\u001b[0;34m(array, value, compare)\u001b[0m\n\u001b[1;32m    132\u001b[0m \u001b[38;5;28;01mtry\u001b[39;00m:\n\u001b[0;32m--> 133\u001b[0m     \u001b[38;5;28;01mreturn\u001b[39;00m \u001b[38;5;28;43mnext\u001b[39;49m\u001b[43m(\u001b[49m\u001b[43mx\u001b[49m\u001b[43m \u001b[49m\u001b[38;5;28;43;01mfor\u001b[39;49;00m\u001b[43m \u001b[49m\u001b[43mx\u001b[49m\u001b[43m \u001b[49m\u001b[38;5;129;43;01min\u001b[39;49;00m\u001b[43m \u001b[49m\u001b[43marray\u001b[49m\u001b[43m \u001b[49m\u001b[38;5;28;43;01mif\u001b[39;49;00m\u001b[43m \u001b[49m\u001b[43mcompare\u001b[49m\u001b[43m(\u001b[49m\u001b[43mx\u001b[49m\u001b[43m,\u001b[49m\u001b[43m \u001b[49m\u001b[43mvalue\u001b[49m\u001b[43m)\u001b[49m\u001b[43m)\u001b[49m\n\u001b[1;32m    134\u001b[0m \u001b[38;5;28;01mexcept\u001b[39;00m \u001b[38;5;167;01mStopIteration\u001b[39;00m:\n",
      "\u001b[0;31mStopIteration\u001b[0m: ",
      "\nDuring handling of the above exception, another exception occurred:\n",
      "\u001b[0;31mValueError\u001b[0m                                Traceback (most recent call last)",
      "File \u001b[0;32m~/.local/lib/python3.10/site-packages/ipywidgets/widgets/widget_selection.py:242\u001b[0m, in \u001b[0;36m_Selection._validate_value\u001b[0;34m(self, proposal)\u001b[0m\n\u001b[1;32m    241\u001b[0m \u001b[38;5;28;01mtry\u001b[39;00m:\n\u001b[0;32m--> 242\u001b[0m     \u001b[38;5;28;01mreturn\u001b[39;00m \u001b[43mfindvalue\u001b[49m\u001b[43m(\u001b[49m\u001b[38;5;28;43mself\u001b[39;49m\u001b[38;5;241;43m.\u001b[39;49m\u001b[43m_options_values\u001b[49m\u001b[43m,\u001b[49m\u001b[43m \u001b[49m\u001b[43mvalue\u001b[49m\u001b[43m,\u001b[49m\u001b[43m \u001b[49m\u001b[38;5;28;43mself\u001b[39;49m\u001b[38;5;241;43m.\u001b[39;49m\u001b[43mequals\u001b[49m\u001b[43m)\u001b[49m \u001b[38;5;28;01mif\u001b[39;00m value \u001b[38;5;129;01mis\u001b[39;00m \u001b[38;5;129;01mnot\u001b[39;00m \u001b[38;5;28;01mNone\u001b[39;00m \u001b[38;5;28;01melse\u001b[39;00m \u001b[38;5;28;01mNone\u001b[39;00m\n\u001b[1;32m    243\u001b[0m \u001b[38;5;28;01mexcept\u001b[39;00m \u001b[38;5;167;01mValueError\u001b[39;00m:\n",
      "File \u001b[0;32m~/.local/lib/python3.10/site-packages/ipywidgets/widgets/widget_selection.py:135\u001b[0m, in \u001b[0;36mfindvalue\u001b[0;34m(array, value, compare)\u001b[0m\n\u001b[1;32m    134\u001b[0m \u001b[38;5;28;01mexcept\u001b[39;00m \u001b[38;5;167;01mStopIteration\u001b[39;00m:\n\u001b[0;32m--> 135\u001b[0m     \u001b[38;5;28;01mraise\u001b[39;00m \u001b[38;5;167;01mValueError\u001b[39;00m(\u001b[38;5;124m'\u001b[39m\u001b[38;5;132;01m%r\u001b[39;00m\u001b[38;5;124m not in array\u001b[39m\u001b[38;5;124m'\u001b[39m\u001b[38;5;241m%\u001b[39mvalue)\n",
      "\u001b[0;31mValueError\u001b[0m: 1 not in array",
      "\nDuring handling of the above exception, another exception occurred:\n",
      "\u001b[0;31mTraitError\u001b[0m                                Traceback (most recent call last)",
      "Cell \u001b[0;32mIn[22], line 1\u001b[0m\n\u001b[0;32m----> 1\u001b[0m month_input \u001b[38;5;241m=\u001b[39m \u001b[43mwidgets\u001b[49m\u001b[38;5;241;43m.\u001b[39;49m\u001b[43mDropdown\u001b[49m\u001b[43m(\u001b[49m\n\u001b[1;32m      2\u001b[0m \u001b[43m    \u001b[49m\u001b[43moptions\u001b[49m\u001b[38;5;241;43m=\u001b[39;49m\u001b[43m[\u001b[49m\u001b[43m(\u001b[49m\u001b[38;5;124;43m'\u001b[39;49m\u001b[38;5;124;43m'\u001b[39;49m\u001b[43m,\u001b[49m\u001b[38;5;124;43m'\u001b[39;49m\u001b[38;5;124;43m'\u001b[39;49m\u001b[43m)\u001b[49m\u001b[43m]\u001b[49m\u001b[43m,\u001b[49m\n\u001b[1;32m      3\u001b[0m \u001b[43m    \u001b[49m\u001b[43mvalue\u001b[49m\u001b[38;5;241;43m=\u001b[39;49m\u001b[38;5;241;43m1\u001b[39;49m\u001b[43m,\u001b[49m\n\u001b[1;32m      4\u001b[0m \u001b[43m    \u001b[49m\u001b[43mdescription\u001b[49m\u001b[38;5;241;43m=\u001b[39;49m\u001b[38;5;124;43m'\u001b[39;49m\u001b[38;5;124;43mYear:\u001b[39;49m\u001b[38;5;124;43m'\u001b[39;49m\u001b[43m,\u001b[49m\n\u001b[1;32m      5\u001b[0m \u001b[43m)\u001b[49m\n\u001b[1;32m      7\u001b[0m display(month_input)\n",
      "File \u001b[0;32m~/.local/lib/python3.10/site-packages/ipywidgets/widgets/widget_selection.py:186\u001b[0m, in \u001b[0;36m_Selection.__init__\u001b[0;34m(self, *args, **kwargs)\u001b[0m\n\u001b[1;32m    183\u001b[0m     kwargs[\u001b[38;5;124m'\u001b[39m\u001b[38;5;124mindex\u001b[39m\u001b[38;5;124m'\u001b[39m] \u001b[38;5;241m=\u001b[39m \u001b[38;5;241m0\u001b[39m \u001b[38;5;28;01mif\u001b[39;00m nonempty \u001b[38;5;28;01melse\u001b[39;00m \u001b[38;5;28;01mNone\u001b[39;00m\n\u001b[1;32m    184\u001b[0m     kwargs[\u001b[38;5;124m'\u001b[39m\u001b[38;5;124mlabel\u001b[39m\u001b[38;5;124m'\u001b[39m], kwargs[\u001b[38;5;124m'\u001b[39m\u001b[38;5;124mvalue\u001b[39m\u001b[38;5;124m'\u001b[39m] \u001b[38;5;241m=\u001b[39m options[\u001b[38;5;241m0\u001b[39m] \u001b[38;5;28;01mif\u001b[39;00m nonempty \u001b[38;5;28;01melse\u001b[39;00m (\u001b[38;5;28;01mNone\u001b[39;00m, \u001b[38;5;28;01mNone\u001b[39;00m)\n\u001b[0;32m--> 186\u001b[0m \u001b[38;5;28;43msuper\u001b[39;49m\u001b[43m(\u001b[49m\u001b[43m)\u001b[49m\u001b[38;5;241;43m.\u001b[39;49m\u001b[38;5;21;43m__init__\u001b[39;49m\u001b[43m(\u001b[49m\u001b[38;5;241;43m*\u001b[39;49m\u001b[43margs\u001b[49m\u001b[43m,\u001b[49m\u001b[43m \u001b[49m\u001b[38;5;241;43m*\u001b[39;49m\u001b[38;5;241;43m*\u001b[39;49m\u001b[43mkwargs\u001b[49m\u001b[43m)\u001b[49m\n\u001b[1;32m    187\u001b[0m \u001b[38;5;28mself\u001b[39m\u001b[38;5;241m.\u001b[39m_initializing_traits_ \u001b[38;5;241m=\u001b[39m \u001b[38;5;28;01mFalse\u001b[39;00m\n",
      "File \u001b[0;32m~/.local/lib/python3.10/site-packages/ipywidgets/widgets/widget_description.py:35\u001b[0m, in \u001b[0;36mDescriptionWidget.__init__\u001b[0;34m(self, *args, **kwargs)\u001b[0m\n\u001b[1;32m     33\u001b[0m     kwargs\u001b[38;5;241m.\u001b[39msetdefault(\u001b[38;5;124m'\u001b[39m\u001b[38;5;124mtooltip\u001b[39m\u001b[38;5;124m'\u001b[39m, kwargs[\u001b[38;5;124m'\u001b[39m\u001b[38;5;124mdescription_tooltip\u001b[39m\u001b[38;5;124m'\u001b[39m])\n\u001b[1;32m     34\u001b[0m     \u001b[38;5;28;01mdel\u001b[39;00m kwargs[\u001b[38;5;124m'\u001b[39m\u001b[38;5;124mdescription_tooltip\u001b[39m\u001b[38;5;124m'\u001b[39m]\n\u001b[0;32m---> 35\u001b[0m \u001b[38;5;28;43msuper\u001b[39;49m\u001b[43m(\u001b[49m\u001b[43m)\u001b[49m\u001b[38;5;241;43m.\u001b[39;49m\u001b[38;5;21;43m__init__\u001b[39;49m\u001b[43m(\u001b[49m\u001b[38;5;241;43m*\u001b[39;49m\u001b[43margs\u001b[49m\u001b[43m,\u001b[49m\u001b[43m \u001b[49m\u001b[38;5;241;43m*\u001b[39;49m\u001b[38;5;241;43m*\u001b[39;49m\u001b[43mkwargs\u001b[49m\u001b[43m)\u001b[49m\n",
      "File \u001b[0;32m~/.local/lib/python3.10/site-packages/ipywidgets/widgets/widget.py:501\u001b[0m, in \u001b[0;36mWidget.__init__\u001b[0;34m(self, **kwargs)\u001b[0m\n\u001b[1;32m    499\u001b[0m \u001b[38;5;250m\u001b[39m\u001b[38;5;124;03m\"\"\"Public constructor\"\"\"\u001b[39;00m\n\u001b[1;32m    500\u001b[0m \u001b[38;5;28mself\u001b[39m\u001b[38;5;241m.\u001b[39m_model_id \u001b[38;5;241m=\u001b[39m kwargs\u001b[38;5;241m.\u001b[39mpop(\u001b[38;5;124m'\u001b[39m\u001b[38;5;124mmodel_id\u001b[39m\u001b[38;5;124m'\u001b[39m, \u001b[38;5;28;01mNone\u001b[39;00m)\n\u001b[0;32m--> 501\u001b[0m \u001b[38;5;28;43msuper\u001b[39;49m\u001b[43m(\u001b[49m\u001b[43m)\u001b[49m\u001b[38;5;241;43m.\u001b[39;49m\u001b[38;5;21;43m__init__\u001b[39;49m\u001b[43m(\u001b[49m\u001b[38;5;241;43m*\u001b[39;49m\u001b[38;5;241;43m*\u001b[39;49m\u001b[43mkwargs\u001b[49m\u001b[43m)\u001b[49m\n\u001b[1;32m    503\u001b[0m Widget\u001b[38;5;241m.\u001b[39m_call_widget_constructed(\u001b[38;5;28mself\u001b[39m)\n\u001b[1;32m    504\u001b[0m \u001b[38;5;28mself\u001b[39m\u001b[38;5;241m.\u001b[39mopen()\n",
      "File \u001b[0;32m~/.local/lib/python3.10/site-packages/traitlets/traitlets.py:1361\u001b[0m, in \u001b[0;36mHasTraits.__init__\u001b[0;34m(self, *args, **kwargs)\u001b[0m\n\u001b[1;32m   1359\u001b[0m changed \u001b[38;5;241m=\u001b[39m \u001b[38;5;28mset\u001b[39m(kwargs) \u001b[38;5;241m&\u001b[39m \u001b[38;5;28mset\u001b[39m(\u001b[38;5;28mself\u001b[39m\u001b[38;5;241m.\u001b[39m_traits)\n\u001b[1;32m   1360\u001b[0m \u001b[38;5;28;01mfor\u001b[39;00m key \u001b[38;5;129;01min\u001b[39;00m changed:\n\u001b[0;32m-> 1361\u001b[0m     value \u001b[38;5;241m=\u001b[39m \u001b[38;5;28;43mself\u001b[39;49m\u001b[38;5;241;43m.\u001b[39;49m\u001b[43m_traits\u001b[49m\u001b[43m[\u001b[49m\u001b[43mkey\u001b[49m\u001b[43m]\u001b[49m\u001b[38;5;241;43m.\u001b[39;49m\u001b[43m_cross_validate\u001b[49m\u001b[43m(\u001b[49m\u001b[38;5;28;43mself\u001b[39;49m\u001b[43m,\u001b[49m\u001b[43m \u001b[49m\u001b[38;5;28;43mgetattr\u001b[39;49m\u001b[43m(\u001b[49m\u001b[38;5;28;43mself\u001b[39;49m\u001b[43m,\u001b[49m\u001b[43m \u001b[49m\u001b[43mkey\u001b[49m\u001b[43m)\u001b[49m\u001b[43m)\u001b[49m\n\u001b[1;32m   1362\u001b[0m     \u001b[38;5;28mself\u001b[39m\u001b[38;5;241m.\u001b[39mset_trait(key, value)\n\u001b[1;32m   1363\u001b[0m     changes[key][\u001b[38;5;124m'\u001b[39m\u001b[38;5;124mnew\u001b[39m\u001b[38;5;124m'\u001b[39m] \u001b[38;5;241m=\u001b[39m value\n",
      "File \u001b[0;32m~/.local/lib/python3.10/site-packages/traitlets/traitlets.py:746\u001b[0m, in \u001b[0;36mTraitType._cross_validate\u001b[0;34m(self, obj, value)\u001b[0m\n\u001b[1;32m    744\u001b[0m \u001b[38;5;28;01mif\u001b[39;00m \u001b[38;5;28mself\u001b[39m\u001b[38;5;241m.\u001b[39mname \u001b[38;5;129;01min\u001b[39;00m obj\u001b[38;5;241m.\u001b[39m_trait_validators:\n\u001b[1;32m    745\u001b[0m     proposal \u001b[38;5;241m=\u001b[39m Bunch({\u001b[38;5;124m\"\u001b[39m\u001b[38;5;124mtrait\u001b[39m\u001b[38;5;124m\"\u001b[39m: \u001b[38;5;28mself\u001b[39m, \u001b[38;5;124m\"\u001b[39m\u001b[38;5;124mvalue\u001b[39m\u001b[38;5;124m\"\u001b[39m: value, \u001b[38;5;124m\"\u001b[39m\u001b[38;5;124mowner\u001b[39m\u001b[38;5;124m\"\u001b[39m: obj})\n\u001b[0;32m--> 746\u001b[0m     value \u001b[38;5;241m=\u001b[39m \u001b[43mobj\u001b[49m\u001b[38;5;241;43m.\u001b[39;49m\u001b[43m_trait_validators\u001b[49m\u001b[43m[\u001b[49m\u001b[38;5;28;43mself\u001b[39;49m\u001b[38;5;241;43m.\u001b[39;49m\u001b[43mname\u001b[49m\u001b[43m]\u001b[49m\u001b[43m(\u001b[49m\u001b[43mobj\u001b[49m\u001b[43m,\u001b[49m\u001b[43m \u001b[49m\u001b[43mproposal\u001b[49m\u001b[43m)\u001b[49m\n\u001b[1;32m    747\u001b[0m \u001b[38;5;28;01melif\u001b[39;00m \u001b[38;5;28mhasattr\u001b[39m(obj, \u001b[38;5;124m\"\u001b[39m\u001b[38;5;124m_\u001b[39m\u001b[38;5;132;01m%s\u001b[39;00m\u001b[38;5;124m_validate\u001b[39m\u001b[38;5;124m\"\u001b[39m \u001b[38;5;241m%\u001b[39m \u001b[38;5;28mself\u001b[39m\u001b[38;5;241m.\u001b[39mname):\n\u001b[1;32m    748\u001b[0m     meth_name \u001b[38;5;241m=\u001b[39m \u001b[38;5;124m\"\u001b[39m\u001b[38;5;124m_\u001b[39m\u001b[38;5;132;01m%s\u001b[39;00m\u001b[38;5;124m_validate\u001b[39m\u001b[38;5;124m\"\u001b[39m \u001b[38;5;241m%\u001b[39m \u001b[38;5;28mself\u001b[39m\u001b[38;5;241m.\u001b[39mname\n",
      "File \u001b[0;32m~/.local/lib/python3.10/site-packages/traitlets/traitlets.py:1233\u001b[0m, in \u001b[0;36mEventHandler.__call__\u001b[0;34m(self, *args, **kwargs)\u001b[0m\n\u001b[1;32m   1231\u001b[0m \u001b[38;5;250m\u001b[39m\u001b[38;5;124;03m\"\"\"Pass `*args` and `**kwargs` to the handler's function if it exists.\"\"\"\u001b[39;00m\n\u001b[1;32m   1232\u001b[0m \u001b[38;5;28;01mif\u001b[39;00m \u001b[38;5;28mhasattr\u001b[39m(\u001b[38;5;28mself\u001b[39m, \u001b[38;5;124m\"\u001b[39m\u001b[38;5;124mfunc\u001b[39m\u001b[38;5;124m\"\u001b[39m):\n\u001b[0;32m-> 1233\u001b[0m     \u001b[38;5;28;01mreturn\u001b[39;00m \u001b[38;5;28;43mself\u001b[39;49m\u001b[38;5;241;43m.\u001b[39;49m\u001b[43mfunc\u001b[49m\u001b[43m(\u001b[49m\u001b[38;5;241;43m*\u001b[39;49m\u001b[43margs\u001b[49m\u001b[43m,\u001b[49m\u001b[43m \u001b[49m\u001b[38;5;241;43m*\u001b[39;49m\u001b[38;5;241;43m*\u001b[39;49m\u001b[43mkwargs\u001b[49m\u001b[43m)\u001b[49m\n\u001b[1;32m   1234\u001b[0m \u001b[38;5;28;01melse\u001b[39;00m:\n\u001b[1;32m   1235\u001b[0m     \u001b[38;5;28;01mreturn\u001b[39;00m \u001b[38;5;28mself\u001b[39m\u001b[38;5;241m.\u001b[39m_init_call(\u001b[38;5;241m*\u001b[39margs, \u001b[38;5;241m*\u001b[39m\u001b[38;5;241m*\u001b[39mkwargs)\n",
      "File \u001b[0;32m~/.local/lib/python3.10/site-packages/ipywidgets/widgets/widget_selection.py:244\u001b[0m, in \u001b[0;36m_Selection._validate_value\u001b[0;34m(self, proposal)\u001b[0m\n\u001b[1;32m    242\u001b[0m     \u001b[38;5;28;01mreturn\u001b[39;00m findvalue(\u001b[38;5;28mself\u001b[39m\u001b[38;5;241m.\u001b[39m_options_values, value, \u001b[38;5;28mself\u001b[39m\u001b[38;5;241m.\u001b[39mequals) \u001b[38;5;28;01mif\u001b[39;00m value \u001b[38;5;129;01mis\u001b[39;00m \u001b[38;5;129;01mnot\u001b[39;00m \u001b[38;5;28;01mNone\u001b[39;00m \u001b[38;5;28;01melse\u001b[39;00m \u001b[38;5;28;01mNone\u001b[39;00m\n\u001b[1;32m    243\u001b[0m \u001b[38;5;28;01mexcept\u001b[39;00m \u001b[38;5;167;01mValueError\u001b[39;00m:\n\u001b[0;32m--> 244\u001b[0m     \u001b[38;5;28;01mraise\u001b[39;00m TraitError(\u001b[38;5;124m'\u001b[39m\u001b[38;5;124mInvalid selection: value not found\u001b[39m\u001b[38;5;124m'\u001b[39m)\n",
      "\u001b[0;31mTraitError\u001b[0m: Invalid selection: value not found"
     ]
    }
   ],
   "source": [
    "month_input = widgets.Dropdown(\n",
    "    options=[('','')],\n",
    "    value=1,\n",
    "    description='Year:',\n",
    ")\n",
    "\n",
    "display(month_input)"
   ]
  },
  {
   "cell_type": "code",
   "execution_count": null,
   "id": "c224aed7",
   "metadata": {},
   "outputs": [],
   "source": [
    "# initialize entire website\n",
    "\n",
    "'''\n",
    "Button for station\n",
    "\n",
    "Button for month\n",
    "\n",
    "Button for sensor\n",
    "\n",
    "Button for attribute\n",
    "\n",
    "'''\n",
    "\n",
    "# initialize all buttons\n",
    "\n",
    "# \n",
    "\n"
   ]
  },
  {
   "cell_type": "code",
   "execution_count": 8,
   "id": "065d0c4c",
   "metadata": {},
   "outputs": [
    {
     "data": {
      "application/vnd.jupyter.widget-view+json": {
       "model_id": "5026cfa9771246c597ed68f72d9b226c",
       "version_major": 2,
       "version_minor": 0
      },
      "text/plain": [
       "Dropdown(description='Number:', index=2, options=(('0', 0), ('1', 1), ('2', 2)), value=2)"
      ]
     },
     "metadata": {},
     "output_type": "display_data"
    },
    {
     "data": {
      "application/vnd.jupyter.widget-view+json": {
       "model_id": "bb358fef37e843c99d2aeb25ec7598c9",
       "version_major": 2,
       "version_minor": 0
      },
      "text/plain": [
       "Button(description='Search Months', style=ButtonStyle(), tooltip='Search Months')"
      ]
     },
     "metadata": {},
     "output_type": "display_data"
    }
   ],
   "source": [
    "# display a button to request a station\n",
    "\n",
    "# find all the stations\n",
    "\n",
    "\n",
    "\n",
    "\n",
    "# display(stations_dropdown)\n",
    "# display(stations_button)"
   ]
  },
  {
   "cell_type": "code",
   "execution_count": null,
   "id": "c6e1b0a4",
   "metadata": {},
   "outputs": [],
   "source": [
    "# create button to "
   ]
  },
  {
   "cell_type": "code",
   "execution_count": null,
   "id": "07057a29",
   "metadata": {},
   "outputs": [],
   "source": [
    "'''\n",
    "# collect wanted data\n",
    "station_data = db[STATION].find_one({'month': '03_2023'})\n",
    "x = station_data['gps']['datetime']\n",
    "y = station_data['particulate_matter']['PM1count']['0']\n",
    "'''"
   ]
  },
  {
   "cell_type": "code",
   "execution_count": null,
   "id": "2be82ad7",
   "metadata": {
    "scrolled": true
   },
   "outputs": [],
   "source": [
    "'''# setup plt plot\n",
    "plt.ioff()  # avoids showing the plotting widget right here and now.\n",
    "plt.rcParams[\"figure.figsize\"] = (10,10)\n",
    "\n",
    "fig = plt.figure()\n",
    "fig.canvas.header_visible = False\n",
    "fig.canvas.layout = Layout( \n",
    "    max_width='1000px', \n",
    "    max_height='1000px',\n",
    "    border='solid')\n",
    "\n",
    "graph = plt.plot(x, y)\n",
    "\n",
    "#I still don't know how to layout correctly these widgets on the page.\n",
    "# box_layout = Layout(#display='flex',\n",
    "#                     flex_flow='row',\n",
    "#                     #align_items='stretch',\n",
    "#                     border='solid',\n",
    "#                     width='100%',\n",
    "#                     max_width='1050px')\n",
    "# b = Box(children=[m, fig.canvas], layout=box_layout)\n",
    "# display(fig)\n",
    "display(fig.canvas)\n",
    "#display(m)\n",
    "'''"
   ]
  },
  {
   "cell_type": "code",
   "execution_count": null,
   "id": "2890a41d",
   "metadata": {},
   "outputs": [],
   "source": []
  }
 ],
 "metadata": {
  "kernelspec": {
   "display_name": "Python 3 (ipykernel)",
   "language": "python",
   "name": "python3"
  },
  "language_info": {
   "codemirror_mode": {
    "name": "ipython",
    "version": 3
   },
   "file_extension": ".py",
   "mimetype": "text/x-python",
   "name": "python",
   "nbconvert_exporter": "python",
   "pygments_lexer": "ipython3",
   "version": "3.10.6"
  }
 },
 "nbformat": 4,
 "nbformat_minor": 5
}
